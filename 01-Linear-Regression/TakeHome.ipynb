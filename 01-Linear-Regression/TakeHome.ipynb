{
 "cells": [
  {
   "cell_type": "code",
   "execution_count": 4,
   "id": "0ad5607f",
   "metadata": {},
   "outputs": [
    {
     "data": {
      "text/plain": [
       "(50, 4)"
      ]
     },
     "execution_count": 4,
     "metadata": {},
     "output_type": "execute_result"
    }
   ],
   "source": [
    "import matplotlib.pyplot as plt\n",
    "import numpy as np\n",
    "\n",
    "raw_data = np.genfromtxt('Bank_Personal_Loan_Modelling.csv',delimiter = ',', dtype=str);\n",
    "#print(raw_data)\n",
    "data = np.array(raw_data[1:51,0:4], dtype=float);\n",
    "data.shape\n",
    "#print(data)"
   ]
  },
  {
   "cell_type": "code",
   "execution_count": 15,
   "id": "5588cc76",
   "metadata": {},
   "outputs": [
    {
     "name": "stdout",
     "output_type": "stream",
     "text": [
      "[[  1.  25.   1.  49.]\n",
      " [  2.  45.  19.  34.]\n",
      " [  3.  39.  15.  11.]\n",
      " [  4.  35.   9. 100.]\n",
      " [  5.  35.   8.  45.]]\n"
     ]
    }
   ],
   "source": [
    "print(data[:5])"
   ]
  },
  {
   "cell_type": "code",
   "execution_count": 16,
   "id": "507ccb55",
   "metadata": {},
   "outputs": [],
   "source": [
    "# Normalized data\n",
    "def normalized_data(data):\n",
    "    means = np.mean(data, axis=0)\n",
    "    stds = np.std(data, axis=0)\n",
    "    return (data - means) / stds"
   ]
  },
  {
   "cell_type": "code",
   "execution_count": 17,
   "id": "5340cba3",
   "metadata": {},
   "outputs": [
    {
     "name": "stdout",
     "output_type": "stream",
     "text": [
      "[[-1.69774938 -1.88601088 -1.86997138 -0.56387976]\n",
      " [-1.62845348  0.03849002 -0.0266261  -0.88209633]\n",
      " [-1.55915759 -0.53886025 -0.43625838 -1.3700284 ]\n",
      " [-1.4898617  -0.92376043 -1.05070681  0.51805657]\n",
      " [-1.4205658  -0.92376043 -1.15311488 -0.64873751]]\n"
     ]
    }
   ],
   "source": [
    "data_norm = normalized_data(data)\n",
    "print(data_norm[:5])"
   ]
  },
  {
   "cell_type": "code",
   "execution_count": 22,
   "id": "b12584a1",
   "metadata": {},
   "outputs": [],
   "source": [
    "# Extract y from data\n",
    "headers = raw_data[0,:];\n",
    "y_label = 'Income'\n",
    "y_index = np.where(headers == y_label)[0][0]\n",
    "\n",
    "#y = np.array([data_norm[:,y_index]]).T\n",
    "y = data_norm[:,y_index]\n",
    "\n",
    "#np.squeeze(y)\n",
    "#y.shape\n",
    "#list(y)\n"
   ]
  },
  {
   "cell_type": "code",
   "execution_count": 23,
   "id": "4755ede3",
   "metadata": {},
   "outputs": [
    {
     "name": "stdout",
     "output_type": "stream",
     "text": [
      "[-0.56387976 -0.88209633 -1.3700284   0.51805657 -0.64873751]\n"
     ]
    }
   ],
   "source": [
    "print(y[:5])"
   ]
  },
  {
   "cell_type": "code",
   "execution_count": 24,
   "id": "5876c0df",
   "metadata": {},
   "outputs": [],
   "source": [
    "# Extract X from data\n",
    "\n",
    "y_label = 'Income'\n",
    "y_index = np.where(headers == y_label)[0][0]\n",
    "\n",
    "X = np.array([data_norm[:,y_index]]).T\n",
    "\n",
    "\n",
    "X = data_norm[:,0:y_index]\n",
    "\n",
    "X = np.insert(X, 0, 1, axis=1)\n",
    "\n"
   ]
  },
  {
   "cell_type": "code",
   "execution_count": 25,
   "id": "2ff60c77",
   "metadata": {},
   "outputs": [
    {
     "name": "stdout",
     "output_type": "stream",
     "text": [
      "[[ 1.         -1.69774938 -1.88601088 -1.86997138]\n",
      " [ 1.         -1.62845348  0.03849002 -0.0266261 ]\n",
      " [ 1.         -1.55915759 -0.53886025 -0.43625838]\n",
      " [ 1.         -1.4898617  -0.92376043 -1.05070681]\n",
      " [ 1.         -1.4205658  -0.92376043 -1.15311488]]\n"
     ]
    }
   ],
   "source": [
    "print(X[:5,:])"
   ]
  },
  {
   "cell_type": "code",
   "execution_count": 26,
   "id": "29709255",
   "metadata": {},
   "outputs": [],
   "source": [
    "# create h function\n",
    "def h(X,theta):\n",
    "    y_predicted = np.dot(X,theta)\n",
    "    return y_predicted"
   ]
  },
  {
   "cell_type": "code",
   "execution_count": 28,
   "id": "53ac7d84",
   "metadata": {},
   "outputs": [
    {
     "name": "stdout",
     "output_type": "stream",
     "text": [
      "[-19.28939915  -2.23607739  -6.4550481  -10.92829916 -11.30174773]\n"
     ]
    }
   ],
   "source": [
    "print(h(X, np.array([1, 2, 4, 5]))[:5])"
   ]
  },
  {
   "cell_type": "code",
   "execution_count": 29,
   "id": "99b1ac6c",
   "metadata": {},
   "outputs": [],
   "source": [
    "def cost(theta, X, y):\n",
    "    d = (X@theta) - y\n",
    "    J = (d.T @ d)/2\n",
    "    return J"
   ]
  },
  {
   "cell_type": "code",
   "execution_count": 30,
   "id": "16cb5006",
   "metadata": {},
   "outputs": [
    {
     "name": "stdout",
     "output_type": "stream",
     "text": [
      "17797.406082147027\n"
     ]
    }
   ],
   "source": [
    "print(cost(np.array([1, 8, 10, 15]), X, y))"
   ]
  },
  {
   "cell_type": "code",
   "execution_count": 31,
   "id": "c654d152",
   "metadata": {},
   "outputs": [],
   "source": [
    "# Gradient of cost function\n",
    "def gradient(X, y, theta):\n",
    "    \n",
    "    grad = X.T @ ((X @ theta) - y)\n",
    "    return grad"
   ]
  },
  {
   "cell_type": "code",
   "execution_count": 33,
   "id": "d4fead2e",
   "metadata": {},
   "outputs": [
    {
     "name": "stdout",
     "output_type": "stream",
     "text": [
      "[  50.          461.91865586 1266.42201049 1273.15553399]\n"
     ]
    }
   ],
   "source": [
    "print(gradient(X, y, np.array([1, 8, 10, 15])))"
   ]
  },
  {
   "cell_type": "code",
   "execution_count": 34,
   "id": "e15f4b2b",
   "metadata": {},
   "outputs": [],
   "source": [
    "def gradient_descent(X, y, theta_initial, alpha, num_iters):\n",
    "    J_per_iter = np.zeros(num_iters)\n",
    "    gradient_per_iter = np.zeros((num_iters,len(theta_initial)))\n",
    "    # initialize theta\n",
    "    theta = theta_initial\n",
    "    for iter in np.arange(num_iters):\n",
    "        grad = gradient(X, y, theta)\n",
    "        theta = theta - alpha * grad\n",
    "        J_per_iter[iter] = cost(theta, X, y)\n",
    "        gradient_per_iter[iter] = grad.T\n",
    "    return (theta, J_per_iter, gradient_per_iter)"
   ]
  },
  {
   "cell_type": "code",
   "execution_count": 36,
   "id": "f2622ba1",
   "metadata": {},
   "outputs": [
    {
     "name": "stdout",
     "output_type": "stream",
     "text": [
      "theta: [ 4.63984406e-15 -1.05211003e+00 -2.55451769e+01  6.40549550e+01]\n",
      "J_per_iter: [245590.25072231 199213.86601034 161631.45061853 131175.06350824\n",
      " 106493.1572945   86490.55754696  70279.82852472  57141.86520858\n",
      "  46493.96129939  37863.93491214]\n",
      "gradient_per_iter [[-8.95283847e-13  3.67373429e+02  5.46132992e+03  5.50211808e+03]\n",
      " [-6.89226454e-13  3.19395567e+02  4.91475957e+03  4.95530468e+03]\n",
      " [-5.68434189e-13  2.76768351e+02  4.42272665e+03  4.46305815e+03]\n",
      " [-7.56728014e-13  2.38929704e+02  3.97978774e+03  4.01993180e+03]\n",
      " [-4.51194637e-13  2.05375052e+02  3.58104282e+03  3.62102266e+03]\n",
      " [-3.48165941e-13  1.75651514e+02  3.22208102e+03  3.26191723e+03]\n",
      " [-3.30402372e-13  1.49352678e+02  2.89893177e+03  2.93864260e+03]\n",
      " [-1.24344979e-13  1.26113895e+02  2.60802087e+03  2.64762245e+03]\n",
      " [-2.16715534e-13  1.05608056e+02  2.34613090e+03  2.38563750e+03]\n",
      " [-2.59348099e-13  8.75417800e+01  2.11036561e+03  2.14978981e+03]]\n"
     ]
    }
   ],
   "source": [
    "(theta, J_per_iter, gradient_per_iter) = gradient_descent(X, y, np.array([0, 1, 10, 100]), 0.001, 10)\n",
    "print(\"theta:\", theta)\n",
    "print(\"J_per_iter:\", J_per_iter)\n",
    "print(\"gradient_per_iter\", gradient_per_iter)"
   ]
  },
  {
   "cell_type": "code",
   "execution_count": 37,
   "id": "8e858ebf",
   "metadata": {},
   "outputs": [],
   "source": [
    "def goodness_of_fit(y, y_predicted):\n",
    "    # YOUR CODE HERE\n",
    "    r_square =  np.absolute(1 - (((y - y_predicted) ** 2).sum() / ((y - 1/y_predicted) ** 2).sum()))\n",
    "    return r_square"
   ]
  },
  {
   "cell_type": "code",
   "execution_count": 38,
   "id": "c63fa5fa",
   "metadata": {},
   "outputs": [
    {
     "name": "stdout",
     "output_type": "stream",
     "text": [
      "4.772939353034655\n"
     ]
    }
   ],
   "source": [
    "y_predicted =  h(X, theta)\n",
    "r_square = goodness_of_fit(y, y_predicted)\n",
    "print(r_square)"
   ]
  },
  {
   "cell_type": "code",
   "execution_count": 39,
   "id": "b54d6bdf",
   "metadata": {},
   "outputs": [],
   "source": [
    "# Function to use the normal equations to find the optimal\n",
    "# parameters for a linear regression model\n",
    "from numpy.linalg import inv\n",
    "def normal_equation(X, y):\n",
    "    theta = inv(X.T @ X) @ X.T @ y\n",
    "    return theta"
   ]
  },
  {
   "cell_type": "code",
   "execution_count": 40,
   "id": "298b7bd9",
   "metadata": {},
   "outputs": [
    {
     "name": "stdout",
     "output_type": "stream",
     "text": [
      "theta from normal equation: [[ 5.55111512e-17  1.42132349e-01 -4.04722449e-01  3.20073061e-01]]\n",
      "r_square: 0.999960841634185\n"
     ]
    }
   ],
   "source": [
    "theta_norm = normal_equation(X,np.array([y]).T)\n",
    "print(\"theta from normal equation:\", theta_norm.T)\n",
    "y_norm_predicted =  h(X, theta_norm)\n",
    "r_norm_square = goodness_of_fit(y, y_norm_predicted)\n",
    "print(\"r_square:\", r_norm_square)"
   ]
  },
  {
   "cell_type": "code",
   "execution_count": 46,
   "id": "444cb8ba",
   "metadata": {},
   "outputs": [],
   "source": [
    "theta_initial = np.zeros(X.shape[1],)\n",
    "alpha = 0.003\n",
    "iterations = 30000\n",
    "\n",
    "theta, costs, grad = gradient_descent(X, y, theta_initial, alpha, iterations)\n"
   ]
  },
  {
   "cell_type": "code",
   "execution_count": 47,
   "id": "6fbd3ac7",
   "metadata": {},
   "outputs": [
    {
     "data": {
      "image/png": "[encoded data removed]",
      "text/plain": [
       "<Figure size 640x480 with 1 Axes>"
      ]
     },
     "metadata": {},
     "output_type": "display_data"
    }
   ],
   "source": [
    "\n",
    "def cost_plot(iterations, costs):\n",
    "    \n",
    "    x_loss = np.arange(0, iterations, 1)\n",
    "    plt.plot(x_loss, costs, 'b-')\n",
    "    plt.xlabel('iterations')\n",
    "    plt.ylabel('costs')\n",
    "    plt.show()\n",
    "    \n",
    "cost_plot(iterations, costs)"
   ]
  },
  {
   "cell_type": "markdown",
   "id": "6d1c3ac1",
   "metadata": {},
   "source": [
    "My dataset, 'Bank_Personal_Loan_Modelling.csv' contains total data on 5000 customers. \n",
    "This data includes customer demographic information (age, income, etc.), \n",
    "the customer's relationship with the bank (mortgage, securities account, etc.), \n",
    "and the customer response to the last personal loan campaign (Personal Loan). \n",
    "\n",
    "I use the first four (ID, Age, Experience, Income) and 50 rows of the dataset. \n",
    "In this model, I predict income value based on the age and experience by using Linear Regression.\n"
   ]
  },
  {
   "cell_type": "markdown",
   "id": "ae5dcc6e",
   "metadata": {},
   "source": [
    "#Write a brief report on your experiments and results in the form of a Jupyter notebook.\n",
    "===== A brief report of experiemnts and results =====\n",
    "\n",
    "- slicing the first four features (ID, Age, Experience, Income) and only 50 samples from 5000 total data.\n",
    "- normalize the data\n",
    "- Extract X(ID, Age, Experience) and y(Income)data \n",
    "- create hypothesis \n",
    "- define cost function\n",
    "-find gradient and gradient descent\n",
    "To get goodness of fit by using r square\n",
    "plotting the cost\n",
    "\n",
    "Since r squred value is 0.99999, the model fits very well.\n",
    "\n"
   ]
  },
  {
   "cell_type": "code",
   "execution_count": null,
   "id": "04f3422e",
   "metadata": {},
   "outputs": [],
   "source": []
  }
 ],
 "metadata": {
  "kernelspec": {
   "display_name": "pythonDSAI",
   "language": "python",
   "name": "pythondsai"
  },
  "language_info": {
   "codemirror_mode": {
    "name": "ipython",
    "version": 3
   },
   "file_extension": ".py",
   "mimetype": "text/x-python",
   "name": "python",
   "nbconvert_exporter": "python",
   "pygments_lexer": "ipython3",
   "version": "3.9.5"
  }
 },
 "nbformat": 4,
 "nbformat_minor": 5
}
