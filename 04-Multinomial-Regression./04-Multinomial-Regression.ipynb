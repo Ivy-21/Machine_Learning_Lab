{
 "cells": [
  {
   "cell_type": "markdown",
   "metadata": {},
   "source": [
    "Before you turn this problem in, make sure everything runs as expected. First, **restart the kernel** (in the menubar, select Kernel$\\rightarrow$Restart) and then **run all cells** (in the menubar, select Cell$\\rightarrow$Run All).\n",
    "\n",
    "Make sure you fill in any place that says `YOUR CODE HERE` or \"YOUR ANSWER HERE\", as well as your name and collaborators below:"
   ]
  },
  {
   "cell_type": "code",
   "execution_count": 2,
   "metadata": {},
   "outputs": [],
   "source": [
    "NAME = \"Win Win Phyo\"\n",
    "ID = \"st122314\""
   ]
  },
  {
   "cell_type": "markdown",
   "metadata": {},
   "source": [
    "---"
   ]
  },
  {
   "cell_type": "markdown",
   "metadata": {},
   "source": [
    "# Machine Learning Lab 04: Multinomial Logistic Regression\n"
   ]
  },
  {
   "cell_type": "markdown",
   "metadata": {},
   "source": [
    "## Generalized Linear Models\n",
    "\n",
    "From lecture, we know that members of the exponential family distributions can be written in the form\n",
    "$$p(y;\\eta) = b(y)e^{(\\eta^\\top T(y)-a(\\eta))},$$\n",
    "where\n",
    "- $\\eta$ is the natural parameter or canonical paramter of the distribution,\n",
    "- $T(y)$ is the sufficient statistic (we normally use $T(y) = y$),\n",
    "- $b(y)$ is an arbitrary scalar function of y, and\n",
    "- $a(\\eta)$ is the log partition function. We use $e^{a(\\eta)}$ just to normalize the distribution to have a sum or integral of 1.\n",
    "\n",
    "Each choice of $T$, $a$, and $b$ defines a family (set) of distributions parameterized by $\\eta$.\n",
    "\n",
    "If we can write $p(y \\mid \\mathbf{x} ; \\theta)$ as a member of the exponential family of distributions with parameters $\\mathbf{\\eta}$ with\n",
    "$\\eta_i = \\theta^\\top_i \\mathbf{x}$, we obtain a *generalized linear model* that can be optimized using the maximum likelihood principle.\n",
    "\n",
    "The GLM for the Gaussian distribution with natural parameter $\\eta$ being the mean of the Gaussian gives us ordinary linear regression.\n",
    "\n",
    "The Bernoulli distribution with parameter $\\phi$ can be written as an exponential distribution\n",
    "with natural parmeter $\\eta = \\log \\frac{\\phi}{1-\\phi}$. The GLM for this distribution is logistic regression.\n",
    "\n",
    "When we write the multinomial distribution with paremeters $\\phi_i > 0$ for classes $i \\in 1..K$ with the constraint that\n",
    "$$\\sum_{i=1}^{K} \\phi_i = 1$$ as a member of the exponential family,\n",
    "the resulting GLM is called *multinomial logistic regression*. The parameters $\\phi_1, \\ldots, \\phi_K$ are written\n",
    "in terms of $\\theta$ as\n",
    "$$\\phi_i = p(y = i \\mid \\mathbf{x}; \\theta) = \\frac{e^{\\theta^\\top_i \\mathbf{x}}}{\\sum_{j=1}^{K}e^{\\theta^\\top_j \\mathbf{x}}}. $$"
   ]
  },
  {
   "cell_type": "markdown",
   "metadata": {},
   "source": [
    "## Optimizing a Multinomial Regression Model\n",
    "\n",
    "In multinomial regression, we have\n",
    "\n",
    "1. Data are pairs $\\mathbf{x}^{(i)}, y^{(i)}$ with $\\mathbf{x}^{(i)} \\in \\mathbb{R}^n$ and\n",
    "   $y \\in 1..K$.\n",
    "   \n",
    "2. The hypothesis is a vector-valued function\n",
    "$$\\mathbf{h}_\\theta(\\mathbf{x}) = \\begin{bmatrix} p(y = 1 \\mid \\mathbf{x} ; \\theta) \\\\\n",
    "                                         p(y = 2 \\mid \\mathbf{x} ; \\theta) \\\\\n",
    "                                         \\vdots \\\\\n",
    "                                         p(y = K \\mid \\mathbf{x} ; \\theta) \\end{bmatrix},$$\n",
    "    where $$p(y = i \\mid \\mathbf{x}) = \\phi_i = p(y = i \\mid \\mathbf{x}; \\theta) = \\frac{e^{\\theta^\\top_i \\mathbf{x}}}{\\sum_{j=1}^{K}e^{\\theta^\\top_j \\mathbf{x}}}. $$\n",
    "\n",
    "We need a cost function and a way to minimize that cost function. As usual, we try to find the parameters maximizing the likelihood or log likelihood function, or equivalently, minimizing the negative log likelihood function:\n",
    "\n",
    "$$\\theta^* = \\text{argmax}_\\theta {\\cal L}(\\theta) =\n",
    "             \\text{argmax}_\\theta \\ell(\\theta) =\n",
    "             \\text{argmin}_\\theta J(\\theta),$$\n",
    "where\n",
    "$$\\begin{eqnarray}\n",
    "   J(\\theta) & = & - \\ell(\\theta) \\\\\n",
    "   & = & - \\sum_{i=1}^m \\log p(y^{(i)} \\mid \\textbf{x}^{(i)} ; \\theta).\n",
    "   \\end{eqnarray}$$\n",
    "\n",
    "Now that we know what is $J(\\theta)$, let's try to find its minimimum by taking the derivatives with respect to an arbitrary parameter $\\theta_{kl}$, the $l$-th element of the parameter vector $\\theta_k$ for class $k$. Before we start, let's define a variable $a_k$ as the linear activation for class $k$ in the softmax function:\n",
    "$$ a_k = \\theta_k^\\top \\mathbf{x}^{(i)}, $$\n",
    "and rewrite the softmax more conveniently as\n",
    "$$ \\phi_k = \\frac{e^{a_k}}{\\sum_{j=1}^K e^{a_j}}. $$\n",
    "That makes it a little easier to compute the gradient:\n",
    "$$\\begin{eqnarray}\n",
    "   \\frac{\\partial J}{\\partial \\theta_{kl}} & = & - \\sum_{i=1}^m \\frac{1}{\\phi_{y^{(i)}}} \\frac{\\partial \\phi_{y^{(i)}}}{\\partial \\theta_{kl}}. \\\\\n",
    "   \\end{eqnarray}$$\n",
    "Using the chain rule, we have\n",
    "$$\\frac{\\partial \\phi_{y^{(i)}}}{\\partial \\theta_{kl}} = \\sum_{j=1}^K \\frac{\\partial \\phi_{y^{(i)}}}{\\partial a_j} \\frac{\\partial a_j}{\\partial \\theta_{kl}}$$\n",
    "The second factor is easy:\n",
    "$$ \\frac{\\partial a_j}{\\partial \\theta_{kl}} = \\delta(k=j)x^{(i)}_l. $$\n",
    "For the first factor, we have\n",
    "$$\\begin{eqnarray}\n",
    "\\frac{\\partial \\phi_{y^{(i)}}}{\\partial a_j}\n",
    "& = & \\frac{ \\left[ \\delta(y^{(i)}=j)e^{a_j} \\sum_{c=1}^K e^{a_c} \\right] - e^{a_j} e^{a_j} }{\\left[ \\sum_{c=1}^K e^{a_c} \\right]^2} \\\\\n",
    "& = & \\delta(y^{(i)}=j) \\phi_j - \\phi_j^2\n",
    "\\end{eqnarray}$$\n",
    "\n",
    "Substituting what we've derived into the definition above, we obtain\n",
    "$$ \\frac{\\partial J}{\\theta_{kl}} = - \\sum_{i=1}^m \\sum_{j=1}^K (\\delta(y^{(i)}=j) - \\phi_j) \\frac{\\partial a_j}{\\partial \\theta_{kl}}. $$\n",
    "\n",
    "There are two ways to do the calculation.\n",
    "In deep neural networks with multinomial outputs, we want to first calculate the $\\frac{\\partial J}{\\partial a_j}$ terms then use them to calculate $\\frac{\\partial J}{\\partial \\theta_{kl}}$.\n",
    "\n",
    "However, if we only have the \"single layer\" model described up till now, we note\n",
    "that\n",
    "$$\\frac{\\partial a_j}{\\partial \\theta_{kl}} = \\delta(j=k) x^{(i)}_l,$$\n",
    "so we can simplify as follows:\n",
    "$$\\begin{eqnarray}\n",
    "  \\frac{\\partial J}{\\theta_{kl}} & = & - \\sum_{i=1}^m \\sum_{j=1}^K (\\delta(y^{(i)}=j) - \\phi_j) \\frac{\\partial a_j}{\\partial \\theta_{kl}} \\\\\n",
    "  & = & - \\sum_{i=1}^m \\sum_{j=1}^K (\\delta(y^{(i)}=j) - \\phi_j) \\delta(j=k) x^{(i)}_l \\\\\n",
    "  & = & - \\sum_{i=1}^m (\\delta(y^{(i)}=k) - \\phi_k) x^{(i)}_l \\\\\n",
    "  \\end{eqnarray}$$"
   ]
  },
  {
   "cell_type": "markdown",
   "metadata": {},
   "source": [
    "## Put It Together\n",
    "\n",
    "OK! Now we have all 4 criteria for our multinomial regression model:\n",
    "\n",
    "1. Data are pairs $\\mathbf{x}^{(i)}, y^{(i)}$ with $\\mathbf{x}^{(i)} \\in \\mathbb{R}^n$ and\n",
    "   $y \\in 1..K$.\n",
    "   \n",
    "2. The hypothesis is a vector-valued function\n",
    "$$\\mathbf{h}_\\theta(\\mathbf{x}) = \\begin{bmatrix} p(y = 1 \\mid \\mathbf{x} ; \\theta) \\\\\n",
    "                                         p(y = 2 \\mid \\mathbf{x} ; \\theta) \\\\\n",
    "                                         \\vdots \\\\\n",
    "                                         p(y = K \\mid \\mathbf{x} ; \\theta) \\end{bmatrix},$$\n",
    "    where $$p(y = i \\mid \\mathbf{x}) = \\phi_i = p(y = i \\mid \\mathbf{x}; \\theta) = \\frac{e^{\\theta^\\top_i \\mathbf{x}}}{\\sum_{j=1}^{K}e^{\\theta^\\top_j \\mathbf{x}}}. $$\n",
    "    \n",
    "3. The cost function is\n",
    "   $$J(\\theta) = - \\sum_{i=1}^m \\log p(y^{(i)} \\mid \\textbf{x}^{(i)})$$\n",
    "   \n",
    "4. The optimization algorithm is gradient descent on $J(\\theta)$ with the update rule\n",
    "   $$\\theta_{kl}^{(n+1)} \\leftarrow \\theta_{kl}^{(n)} - \\alpha \\sum_{i=1}^m (\\delta(y^{(i)}=k) - \\phi_k) x^{(i)}_l.$$\n"
   ]
  },
  {
   "cell_type": "markdown",
   "metadata": {},
   "source": [
    "## Multinomial Regression Example\n",
    "\n",
    "The following example of multinomial logistic regression is from [Kaggle](https://www.kaggle.com/saksham219/softmax-regression-for-iris-classification).\n",
    "\n",
    "The data set is the famous [Iris dataset from the UCI machine learning repository](https://archive.ics.uci.edu/ml/datasets/iris).\n",
    "\n",
    "The data contain 50 samples from each of three classes. Each class refers to a particular species of the iris plant. \n",
    "The data include four independent variables:\n",
    "1. Sepal length in cm\n",
    "2. Sepal width in cm\n",
    "3. Petal length in cm\n",
    "4. Petal width in cm\n",
    "\n",
    "The target takes on one of three classes:\n",
    "1. Iris Setosa\n",
    "2. Iris Versicolour\n",
    "3. Iris Virginica\n",
    "   \n",
    "To predict the target value, we use multinomial logistic regression for $k=3$ classes i.e. $y \\in \\{ 1, 2, 3 \\}$. \n",
    "\n",
    "Given $\\mathbf{x}$, we would like to predict a probability distribution over the\n",
    "three outcomes for $y$, i.e., $\\phi_1 = p(y=1 \\mid \\mathbf{x})$, $\\phi_2 = p(y=2 \\mid \\mathbf{x})$, and $\\phi_3 = p(y=3 \\mid \\mathbf{x})$.\n"
   ]
  },
  {
   "cell_type": "code",
   "execution_count": 3,
   "metadata": {},
   "outputs": [],
   "source": [
    "# importing libraries\n",
    "import numpy as np\n",
    "import pandas as pd \n",
    "import random\n",
    "import math"
   ]
  },
  {
   "cell_type": "markdown",
   "metadata": {},
   "source": [
    "The `phi` function returns $\\phi_i$ for input patterns $\\mathtt{X}$ and parameters $\\theta$."
   ]
  },
  {
   "cell_type": "code",
   "execution_count": 4,
   "metadata": {},
   "outputs": [],
   "source": [
    "def phi(i, theta, X, num_class):\n",
    "    \"\"\"\n",
    "    Here is how to make documentation for your function show up in intellisense.\n",
    "    Explanation you put here will be shown when you use it.\n",
    "    \n",
    "    To get intellisense in your Jupyter notebook:\n",
    "        - Press 'TAB' after typing a dot (.) to see methods and attributes\n",
    "        - Press 'Shift+TAB' after typing a function name to see its documentation\n",
    "\n",
    "    The `phi` function returns phi_i = h_theta(x) for input patterns X and parameters theta.\n",
    "    \n",
    "    Inputs:\n",
    "        i=index of phi\n",
    "        \n",
    "        X=input dataset\n",
    "        \n",
    "        theta=parameters\n",
    "\n",
    "    Returns:\n",
    "        phi_i\n",
    "    \"\"\"\n",
    "    mat_theta = np.matrix(theta[i])\n",
    "    mat_x = np.matrix(X)\n",
    "    num = math.exp(np.dot(mat_theta, mat_x.T))\n",
    "    den = 0\n",
    "    for j in range(0,num_class):\n",
    "        mat_theta_j = np.matrix(theta[j])\n",
    "        den = den + math.exp(np.dot(mat_theta_j, mat_x.T))\n",
    "    phi_i = num / den\n",
    "    return phi_i"
   ]
  },
  {
   "attachments": {
    "lab4-01.png": {
     "image/png": "[encoded data removed]"
    }
   },
   "cell_type": "markdown",
   "metadata": {
    "deletable": false,
    "editable": false,
    "nbgrader": {
     "cell_type": "markdown",
     "checksum": "7bbfb7d7db673b01e26f88fec69cd486",
     "grade": false,
     "grade_id": "cell-f6c98aabf4060a6e",
     "locked": true,
     "schema_version": 3,
     "solution": false,
     "task": false
    }
   },
   "source": [
    "**Tips for using intellisense: Shift+TAB**\n",
    "\n",
    "![lab4-01.png](attachment:lab4-01.png)"
   ]
  },
  {
   "cell_type": "markdown",
   "metadata": {},
   "source": [
    "The `grad_cost` function gives the gradient of the cost for data $\\mathtt{X}, \\mathbf{y}$ for class $j\\in 1..k$."
   ]
  },
  {
   "cell_type": "code",
   "execution_count": 5,
   "metadata": {},
   "outputs": [],
   "source": [
    "def indicator(i, j):\n",
    "    '''\n",
    "    Check whether i is equal to j\n",
    "    \n",
    "    Return:\n",
    "        1 when i=j, otherwise 0\n",
    "    '''\n",
    "    if i == j: return 1\n",
    "    else: return 0\n",
    "\n",
    "\n",
    "def grad_cost(X, y, j, theta, num_class):\n",
    "    '''\n",
    "    Compute the gradient of the cost function for data X, y for parameters of\n",
    "    output for class j in 1..k\n",
    "    '''\n",
    "    m, n = X.shape\n",
    "    sum = np.array([0 for i in range(0,n)])\n",
    "    for i in range(0, m):\n",
    "        p = indicator(y[i], j) - phi(j, theta, X.loc[i], num_class)\n",
    "        sum = sum + (X.loc[i] * p)\n",
    "    grad = -sum / m\n",
    "    return grad\n",
    "\n",
    "def gradient_descent(X, y, theta, alpha, iters, num_class):\n",
    "    '''\n",
    "    Perform iters iterations of gradient descent: theta_new = theta_old - alpha * cost\n",
    "    '''\n",
    "    n = X.shape[1]\n",
    "    for iter in range(iters):\n",
    "        dtheta = np.zeros((num_class, n))\n",
    "        for j in range(0, num_class):\n",
    "            dtheta[j,:] = grad_cost(X, y, j, theta, num_class)\n",
    "        theta = theta - alpha * dtheta\n",
    "    return theta\n",
    "\n",
    "def h(X, theta, num_class):\n",
    "    '''\n",
    "    Hypothesis function: h_theta(X) = theta * X\n",
    "    '''\n",
    "    X = np.matrix(X)\n",
    "    h_matrix = np.empty((num_class,1))\n",
    "    den = 0\n",
    "    for j in range(0, num_class):\n",
    "        den = den + math.exp(np.dot(theta[j], X.T))\n",
    "    for i in range(0,num_class):\n",
    "        h_matrix[i] = math.exp(np.dot(theta[i], X.T))\n",
    "    h_matrix = h_matrix / den\n",
    "    return h_matrix"
   ]
  },
  {
   "cell_type": "markdown",
   "metadata": {
    "deletable": false,
    "editable": false,
    "nbgrader": {
     "cell_type": "markdown",
     "checksum": "ae6bc59fd16f769612e9610237a581c7",
     "grade": false,
     "grade_id": "cell-7ef5fafee187b7b0",
     "locked": true,
     "schema_version": 3,
     "solution": false,
     "task": false
    }
   },
   "source": [
    "## Exercise 1.1 (5 points)\n",
    "\n",
    "Create a function to load **data** from **Iris.csv** using the Pandas library and extract y from the data.\n",
    "\n",
    "You can use [the Pandas 10 minute guide](https://pandas.pydata.org/pandas-docs/stable/user_guide/10min.html) to learn how to use pandas."
   ]
  },
  {
   "cell_type": "code",
   "execution_count": 6,
   "metadata": {
    "deletable": false,
    "nbgrader": {
     "cell_type": "code",
     "checksum": "628cb1c0a7d70ab1055c7b3517979f8b",
     "grade": false,
     "grade_id": "cell-d063fd66918f3b47",
     "locked": false,
     "schema_version": 3,
     "solution": true,
     "task": false
    }
   },
   "outputs": [],
   "source": [
    "def load_data(file_name, drop_label, y_label, is_print=False):\n",
    "    # 1. Load csv file\n",
    "    data = pd.read_csv(file_name)\n",
    "    if is_print:\n",
    "        print(data.head())\n",
    "        \n",
    "    # 2. remove 'Id' column from data\n",
    "    if drop_label is not None:\n",
    "        data = data.drop([drop_label],axis=1)\n",
    "        if is_print:\n",
    "            print(data.head())\n",
    "            \n",
    "    # 3. Extract y_label column as y from data\n",
    "    #y = 'Species'\n",
    "    \n",
    "    #y_label = 'Species'\n",
    "    y = data[y_label]\n",
    "    \n",
    "    # 4. get index of y-column\n",
    "    y_index = data.columns.get_loc(y_label)\n",
    "    \n",
    "    # 5. Extrack X features from data\n",
    "    #X = None\n",
    "    X = data.iloc[:,:y_index]\n",
    "    # YOUR CODE HERE\n",
    "    #raise NotImplementedError()\n",
    "    return X, y\n"
   ]
  },
  {
   "cell_type": "code",
   "execution_count": 7,
   "metadata": {
    "deletable": false,
    "editable": false,
    "nbgrader": {
     "cell_type": "code",
     "checksum": "e754d7fcc097ad58a8f5cb616fec5605",
     "grade": true,
     "grade_id": "cell-7b5c0f18770fbccb",
     "locked": true,
     "points": 5,
     "schema_version": 3,
     "solution": false,
     "task": false
    }
   },
   "outputs": [
    {
     "name": "stdout",
     "output_type": "stream",
     "text": [
      "   Id  SepalLengthCm  SepalWidthCm  PetalLengthCm  PetalWidthCm      Species\n",
      "0   1            5.1           3.5            1.4           0.2  Iris-setosa\n",
      "1   2            4.9           3.0            1.4           0.2  Iris-setosa\n",
      "2   3            4.7           3.2            1.3           0.2  Iris-setosa\n",
      "3   4            4.6           3.1            1.5           0.2  Iris-setosa\n",
      "4   5            5.0           3.6            1.4           0.2  Iris-setosa\n",
      "   SepalLengthCm  SepalWidthCm  PetalLengthCm  PetalWidthCm      Species\n",
      "0            5.1           3.5            1.4           0.2  Iris-setosa\n",
      "1            4.9           3.0            1.4           0.2  Iris-setosa\n",
      "2            4.7           3.2            1.3           0.2  Iris-setosa\n",
      "3            4.6           3.1            1.5           0.2  Iris-setosa\n",
      "4            5.0           3.6            1.4           0.2  Iris-setosa\n",
      "   SepalLengthCm  SepalWidthCm  PetalLengthCm  PetalWidthCm\n",
      "0            5.1           3.5            1.4           0.2\n",
      "1            4.9           3.0            1.4           0.2\n",
      "2            4.7           3.2            1.3           0.2\n",
      "3            4.6           3.1            1.5           0.2\n",
      "4            5.0           3.6            1.4           0.2\n",
      "0    Iris-setosa\n",
      "1    Iris-setosa\n",
      "2    Iris-setosa\n",
      "3    Iris-setosa\n",
      "4    Iris-setosa\n",
      "Name: Species, dtype: object\n",
      "success!\n"
     ]
    }
   ],
   "source": [
    "X, y = load_data('Iris.csv', 'Id', 'Species', True)\n",
    "print(X.head())\n",
    "print(y[:5])\n",
    "\n",
    "# Test function: Do not remove\n",
    "# tips: this is how to create dataset using pandas\n",
    "d_ex = {'ID':     [  1,   2,   3,    4,    5,    6,    7],\n",
    "        'Grade':  [3.5, 2.5, 3.0, 3.75, 2.83, 3.95, 2.68],\n",
    "        'Type':   ['A', 'B', 'C',  'A',  'C',  'A',  'B']\n",
    "        }\n",
    "df = pd.DataFrame (d_ex, columns = ['ID','Grade', 'Type'])\n",
    "df.to_csv('out.csv', index=False)\n",
    "\n",
    "Xtest, ytest = load_data('out.csv', 'ID', 'Type')\n",
    "assert len(Xtest.columns) == 1, 'number of X_columns incorrect (1)'\n",
    "assert ytest.name == 'Type', 'Extract y_column is incorrect (1)'\n",
    "assert ytest.shape == (7,), 'number of y is incorrect (1)'\n",
    "assert 'Grade' in Xtest.columns, 'Incorrect columns in X (1)'\n",
    "Xtest, ytest = load_data('out.csv', None, 'Type')\n",
    "assert len(Xtest.columns) == 2, 'number of X_columns incorrect (2)'\n",
    "assert ytest.name == 'Type', 'Extract y_column is incorrect (2)'\n",
    "assert ytest.shape == (7,), 'number of y is incorrect (2)'\n",
    "assert 'Grade' in Xtest.columns and 'ID' in Xtest.columns, 'Incorrect columns in X (2)'\n",
    "import os\n",
    "os.remove('out.csv')\n",
    "\n",
    "assert len(X.columns) == 4, 'number of X_columns incorrect (3)'\n",
    "assert 'SepalWidthCm' in X.columns and 'Id' not in X.columns and 'Species' not in X.columns, 'Incorrect columns in X (3)'\n",
    "assert y.name == 'Species', 'Extract y_column is incorrect (3)'\n",
    "assert y.shape == (150,), 'number of y is incorrect (3)'\n",
    "\n",
    "print(\"success!\")\n",
    "# End Test function"
   ]
  },
  {
   "cell_type": "markdown",
   "metadata": {
    "deletable": false,
    "editable": false,
    "nbgrader": {
     "cell_type": "markdown",
     "checksum": "a30e2254d1c1f2935402bbb25f7cbf8c",
     "grade": false,
     "grade_id": "cell-2549563cd9338d95",
     "locked": true,
     "schema_version": 3,
     "solution": false,
     "task": false
    }
   },
   "source": [
    "**Expected result**: \\\n",
    "   SepalLengthCm  SepalWidthCm  PetalLengthCm  PetalWidthCm \\\n",
    "0            5.1           3.5            1.4           0.2\\\n",
    "1            4.9           3.0            1.4           0.2\\\n",
    "2            4.7           3.2            1.3           0.2\\\n",
    "3            4.6           3.1            1.5           0.2\\\n",
    "4            5.0           3.6            1.4           0.2\\\n",
    "0    Iris-setosa\\\n",
    "1    Iris-setosa\\\n",
    "2    Iris-setosa\\\n",
    "3    Iris-setosa\\\n",
    "4    Iris-setosa\\\n",
    "Name: Species, dtype: object"
   ]
  },
  {
   "cell_type": "markdown",
   "metadata": {
    "deletable": false,
    "editable": false,
    "nbgrader": {
     "cell_type": "markdown",
     "checksum": "1bce059019c7763d77c2f095596f67ec",
     "grade": false,
     "grade_id": "cell-507051f801249765",
     "locked": true,
     "schema_version": 3,
     "solution": false,
     "task": false
    }
   },
   "source": [
    "## Exercise 1.2 (10 points)\n",
    "\n",
    "Partition data into training and test sets\n",
    "- No need to use random.seed function!\n",
    "- Ensure that the train set is 70% and the test set is 30% of the data.\n",
    "- Encode the labels in the y attribute to be integers in the range 0..k-1.\n",
    "\n",
    "<details>\n",
    "    <summary><font size=\"3\" color=\"green\"><b>Hint:</b></font></summary>\n",
    "    You can use the <tt>partition</tt> function from lab02 if you like\n",
    "    <p></p>\n",
    "    <a href=\"https://pandas.pydata.org/pandas-docs/stable/reference/api/pandas.DataFrame.iloc.html\">panda.iloc</a> must be used to extract data from an index list\n",
    "    <p></p>\n",
    "    <a href=\"https://pandas.pydata.org/docs/reference/api/pandas.unique.html\">panda.unique</a> will give you the set of unique labels\n",
    "</details>"
   ]
  },
  {
   "cell_type": "code",
   "execution_count": 8,
   "metadata": {
    "deletable": false,
    "nbgrader": {
     "cell_type": "code",
     "checksum": "4b840baf518302ae39dee4e9325d912d",
     "grade": false,
     "grade_id": "cell-eb7e4dd82f395754",
     "locked": false,
     "schema_version": 3,
     "solution": true,
     "task": false
    }
   },
   "outputs": [],
   "source": [
    "def partition(X, y, percent_train):\n",
    "    # 1. create index list\n",
    "    # 2. shuffle index\n",
    "    # 3. Create train/test index\n",
    "    # 4. Separate X_Train, y_train, X_test, y_test\n",
    "    # 5. Get y_labels_name from y using pandas.unique function\n",
    "    # 6. Change y_labels_name into string number and put into y_labels_new\n",
    "    # 7. Drop shuffle index columns\n",
    "    #     - pandas.reset_index() and pandas.drop(...) might be help\n",
    "    \n",
    " \n",
    "    # 1. create index list\n",
    "    m, n = X.shape\n",
    "    idx = np.arange(0,m)\n",
    "    \n",
    "     # 2. shuffle index\n",
    "    random.shuffle(idx)\n",
    "    \n",
    "    # 3. Create train/test index\n",
    "    data = pd.read_csv('Iris.csv')\n",
    "    data =data.iloc[idx,:]\n",
    "    data = data.reset_index()\n",
    "    data = data.drop(['index'],axis=1)\n",
    "    data = data.drop(['Id'],axis=1)\n",
    "    \n",
    "    y_label = 'Species'\n",
    "    y = data[y_label]\n",
    "    y_index = data.columns.get_loc(y_label)\n",
    "    \n",
    "    # 5. Get y_labels_name from y using pandas.unique function\n",
    "    y_labels_name = pd.unique(data[y_label])\n",
    "    \n",
    "    percent_train = 0.7\n",
    "    m_train = int(m*percent_train)\n",
    "    \n",
    "    # 4. Separate X_Train, y_train, X_test, y_test\n",
    "\n",
    "    X_train = data.iloc[0:m_train,0:y_index]\n",
    "    X_test = data.iloc[m_train:,0:y_index]\n",
    "\n",
    "    y_train = data.iloc[:m_train,y_index]\n",
    "    y_test = data.iloc[m_train:,y_index]\n",
    "    \n",
    "\n",
    "    i = 0\n",
    "    for label in y.unique():\n",
    "        y_train[y_train.str.match(label)] = str(i)\n",
    "        y_test[y_test.str.match(label)] = str(i)\n",
    "        i = i + 1      \n",
    "    y_train = y_train.astype(int)\n",
    "    y_test = y_test.astype(int)\n",
    "    \n",
    "   \n",
    " \n",
    "    # 5. Get y_labels_name from y using pandas.unique function\n",
    "    #y_labels_name = pd.unique(data[y_label])\n",
    "  \n",
    "    \n",
    "   # 6. Change y_labels_name into string number and put into y_labels_new\n",
    "    y_labels_new = np.array(pd.factorize(y_labels_name)[0])\n",
    "    \n",
    "    # y_labels_name = None\n",
    "   # y_labels_new = None\n",
    "    \n",
    "    # YOUR CODE HERE\n",
    "    #raise NotImplementedError()\n",
    "    #return index_list, X_train, y_train, X_test, y_test, y_labels_name, y_labels_new\n",
    "    \n",
    "    return idx, X_train, y_train, X_test, y_test, y_labels_name, y_labels_new"
   ]
  },
  {
   "cell_type": "code",
   "execution_count": 9,
   "metadata": {
    "deletable": false,
    "editable": false,
    "nbgrader": {
     "cell_type": "code",
     "checksum": "d6dd3918ae4421e104c8fe2687322be6",
     "grade": true,
     "grade_id": "cell-57199b8ae505edd8",
     "locked": true,
     "points": 10,
     "schema_version": 3,
     "solution": false,
     "task": false
    }
   },
   "outputs": [
    {
     "name": "stdout",
     "output_type": "stream",
     "text": [
      "X_train.shape (105, 4)\n",
      "X_test.shape (45, 4)\n",
      "y_train.shape (105,)\n",
      "y_test.shape (45,)\n",
      "y_labels_name:  ['Iris-setosa' 'Iris-versicolor' 'Iris-virginica']\n",
      "y_labels_new:  [0 1 2]\n",
      "   SepalLengthCm  SepalWidthCm  PetalLengthCm  PetalWidthCm\n",
      "0            5.4           3.4            1.7           0.2\n",
      "1            4.6           3.6            1.0           0.2\n",
      "2            5.7           2.8            4.5           1.3\n",
      "3            5.5           2.4            3.7           1.0\n",
      "4            7.7           3.0            6.1           2.3\n",
      "0    0\n",
      "1    0\n",
      "2    1\n",
      "3    1\n",
      "4    2\n",
      "Name: Species, dtype: int64\n",
      "success!\n"
     ]
    }
   ],
   "source": [
    "percent_train = 0.7\n",
    "idx, X_train, y_train, X_test, y_test, y_labels_name, y_labels_new = partition(X, y, percent_train)\n",
    "print('X_train.shape', X_train.shape)\n",
    "print('X_test.shape', X_test.shape)\n",
    "print('y_train.shape', y_train.shape)\n",
    "print('y_test.shape', y_test.shape)\n",
    "print('y_labels_name: ', y_labels_name)\n",
    "print('y_labels_new: ', y_labels_new)\n",
    "print(X_train.head())\n",
    "print(y_train.head())\n",
    "\n",
    "# Test function: Do not remove\n",
    "assert len(y_labels_name) == 3 and len(y_labels_new) == 3, 'number of y uniques are incorrect'\n",
    "assert X_train.shape == (105, 4), 'Size of X_train is incorrect'\n",
    "assert X_test.shape == (45, 4), 'Size of x_test is incorrect'\n",
    "assert y_train.shape == (105, ), 'Size of y_train is incorrect'\n",
    "assert y_test.shape == (45, ), 'Size of y_test is incorrect'\n",
    "assert 'Iris-setosa' in y_labels_name and 'Iris-virginica' in y_labels_name and \\\n",
    "        'Iris-versicolor' in y_labels_name, 'y unique data incorrect'\n",
    "assert min(y_labels_new) == 0 and max(y_labels_new) < 3, 'label indices are incorrect'\n",
    "\n",
    "print(\"success!\")\n",
    "# End Test function"
   ]
  },
  {
   "cell_type": "markdown",
   "metadata": {
    "deletable": false,
    "editable": false,
    "nbgrader": {
     "cell_type": "markdown",
     "checksum": "b9470594d08018205e3db8c74957f49d",
     "grade": false,
     "grade_id": "cell-ce816c5bfbade0a9",
     "locked": true,
     "schema_version": 3,
     "solution": false,
     "task": false
    }
   },
   "source": [
    "**Expected result**: <span style=\"color:blue\">(*or similar*)</span>\\\n",
    "X_train.shape (105, 4)\\\n",
    "X_test.shape (45, 4)\\\n",
    "y_train.shape (105,)\\\n",
    "y_test.shape (45,)\\\n",
    "y_labels_name:  ['Iris-setosa' 'Iris-versicolor' 'Iris-virginica'] \\\n",
    "y_labels_new:  [0, 1, 2]\n",
    "\n",
    "SepalLengthCm  SepalWidthCm  PetalLengthCm  PetalWidthCm\\\n",
    "0            6.4           2.8            5.6           2.2\\\n",
    "1            6.7           3.3            5.7           2.1\\\n",
    "2            4.6           3.4            1.4           0.3\\\n",
    "3            5.1           3.8            1.5           0.3\\\n",
    "4            5.0           2.3            3.3           1.0\\\n",
    "   Species\\\n",
    "0        2\\\n",
    "1        2\\\n",
    "2        0\\\n",
    "3        0\\\n",
    "4        1"
   ]
  },
  {
   "cell_type": "markdown",
   "metadata": {},
   "source": [
    "## Exercise 1.3 (5 points)\n",
    "\n",
    "Train your classification model using the `gradient_descent` function already provided.\n",
    "You might also play around with the gradient descent function to see if you can speed it up!"
   ]
  },
  {
   "cell_type": "code",
   "execution_count": 10,
   "metadata": {
    "deletable": false,
    "nbgrader": {
     "cell_type": "code",
     "checksum": "ad783130ff0cfdf82d485d403ec273e9",
     "grade": false,
     "grade_id": "cell-45133326ee8336fd",
     "locked": false,
     "schema_version": 3,
     "solution": true,
     "task": false
    }
   },
   "outputs": [],
   "source": [
    "# num_class is the number of unique labels\n",
    "num_class = len(y_labels_name)\n",
    "\n",
    "if (X_train.shape[1] == X.shape[1]): \n",
    "    X_train.insert(0, \"intercept\", 1)\n",
    "\n",
    "# Reset m and n for training data\n",
    "r,c = X_train.shape\n",
    "\n",
    "# Initialize theta for each class\n",
    "theta_initial = np.ones((num_class, c))\n",
    "\n",
    "alpha = .05\n",
    "iterations = 200\n",
    "\n",
    "\n",
    "#theta = None\n",
    "theta = gradient_descent(X_train, y_train, theta_initial, alpha, iterations, num_class)\n",
    "# Logistic regression\n",
    "# YOUR CODE HERE\n",
    "#raise NotImplementedError()"
   ]
  },
  {
   "cell_type": "code",
   "execution_count": 11,
   "metadata": {
    "deletable": false,
    "editable": false,
    "nbgrader": {
     "cell_type": "code",
     "checksum": "292c4d2939100e64e43e00eaa1103c99",
     "grade": true,
     "grade_id": "cell-4df1fd593dc59103",
     "locked": true,
     "points": 5,
     "schema_version": 3,
     "solution": false,
     "task": false
    }
   },
   "outputs": [
    {
     "name": "stdout",
     "output_type": "stream",
     "text": [
      "[[ 1.16877267  1.33645053  1.80711909 -0.19159698  0.43612547]\n",
      " [ 1.0706294   1.16221215  0.76724183  1.14899215  0.87235038]\n",
      " [ 0.76059794  0.50133732  0.42563908  2.04260483  1.69152415]]\n",
      "(3, 5)\n",
      "success!\n"
     ]
    }
   ],
   "source": [
    "print(theta)\n",
    "print(theta.shape)\n",
    "\n",
    "# Test function: Do not remove\n",
    "assert theta.shape == (3, 5), 'Size of theta is incorrect'\n",
    "\n",
    "print(\"success!\")\n",
    "# End Test function"
   ]
  },
  {
   "cell_type": "markdown",
   "metadata": {},
   "source": [
    "**Expected result**: <span style=\"color:blue\">(*or similar*)</span>\\\n",
    "[[ 1.17632192  1.32360047  1.83204165 -0.20224445  0.44039155]\\\n",
    " [ 1.10140069  1.13537321  0.74833178  1.21907866  0.82567377]\\\n",
    " [ 0.72227738  0.54102632  0.41962657  1.98316579  1.73393467]]\\\n",
    "\\\n",
    "(3, 5)"
   ]
  },
  {
   "cell_type": "markdown",
   "metadata": {
    "deletable": false,
    "editable": false,
    "nbgrader": {
     "cell_type": "markdown",
     "checksum": "77824201280c79436622012608de3e2f",
     "grade": false,
     "grade_id": "cell-1fb529e9485db8ed",
     "locked": true,
     "schema_version": 3,
     "solution": false,
     "task": false
    }
   },
   "source": [
    "## Exercise 1.4 (5 points)\n",
    "\n",
    "Let's get your model to make predictions on the test data."
   ]
  },
  {
   "cell_type": "code",
   "execution_count": 12,
   "metadata": {
    "deletable": false,
    "nbgrader": {
     "cell_type": "code",
     "checksum": "348bc255367b5cbda2244eac6b1e9af7",
     "grade": false,
     "grade_id": "cell-ca9bee3cf3b6f596",
     "locked": false,
     "schema_version": 3,
     "solution": true,
     "task": false
    }
   },
   "outputs": [],
   "source": [
    "# Prediction on test data \n",
    "\n",
    "if (X_test.shape[1] == X.shape[1]): \n",
    "    X_test.insert(0, \"intercept\", 1)\n",
    "\n",
    "# Reset m and n for test data\n",
    "r,c = X_test.shape\n",
    "\n",
    "y_pred = []\n",
    "for index,row in X_test.iterrows(): # get a row of X_test data\n",
    "    # calculate y_hat using hypothesis function\n",
    "    y_hat = h(row, theta, num_class)\n",
    "    \n",
    "    # find the index (integer value) of maximum value in y_hat and input back to prediction\n",
    "    #prediction = None\n",
    "    prediction = int(np.where(y_hat == y_hat.max())[0])\n",
    "    \n",
    "    # YOUR CODE HERE\n",
    "    #raise NotImplementedError()\n",
    "    # collect the result\n",
    "    y_pred.append(prediction)\n",
    "    \n"
   ]
  },
  {
   "cell_type": "code",
   "execution_count": 13,
   "metadata": {
    "deletable": false,
    "editable": false,
    "nbgrader": {
     "cell_type": "code",
     "checksum": "d842201bd3b0bc078ed88a2ad3be3ba5",
     "grade": true,
     "grade_id": "cell-eb837dfbea00f88e",
     "locked": true,
     "points": 5,
     "schema_version": 3,
     "solution": false,
     "task": false
    }
   },
   "outputs": [
    {
     "name": "stdout",
     "output_type": "stream",
     "text": [
      "45\n",
      "[1, 2, 2, 2, 1, 0, 1]\n",
      "<class 'int'>\n",
      "success!\n"
     ]
    }
   ],
   "source": [
    "print(len(y_pred))\n",
    "print(y_pred[:7])\n",
    "print(type(y_pred[0]))\n",
    "\n",
    "# Test function: Do not remove\n",
    "assert len(y_pred) == 45, 'Size of y_pred is incorrect'\n",
    "assert isinstance(y_pred[0], int) and isinstance(y_pred[15], int) and isinstance(y_pred[17], int), 'prediction type is incorrect'\n",
    "assert max(y_pred) < 3 and min(y_pred) >= 0, 'wrong index of y_pred'\n",
    "\n",
    "print(\"success!\")\n",
    "# End Test function"
   ]
  },
  {
   "cell_type": "markdown",
   "metadata": {
    "deletable": false,
    "editable": false,
    "nbgrader": {
     "cell_type": "markdown",
     "checksum": "f16868d1301850a213dcca08f77f9d99",
     "grade": false,
     "grade_id": "cell-e6c4ecd254dffa16",
     "locked": true,
     "schema_version": 3,
     "solution": false,
     "task": false
    }
   },
   "source": [
    "**Expected result**: <span style=\"color:blue\">(*or similar*)</span>\\\n",
    "45 \\\n",
    "[2, 0, 2, 0, 0, 0, 2] \\\n",
    "<class 'int'>"
   ]
  },
  {
   "cell_type": "markdown",
   "metadata": {},
   "source": [
    "## Exercise 1.5 (5 points)\n",
    "\n",
    "Estimate accuracy of model on test data\n",
    "\n",
    "$$\\text{accuracy} = \\frac{\\text{number of correct test predictions}}{m_{\\text{test}}}$$"
   ]
  },
  {
   "cell_type": "code",
   "execution_count": 14,
   "metadata": {
    "deletable": false,
    "nbgrader": {
     "cell_type": "code",
     "checksum": "5e98a0ca8a59bcc91e4e98134994357c",
     "grade": false,
     "grade_id": "cell-e55c1db91fb8e2c2",
     "locked": false,
     "schema_version": 3,
     "solution": true,
     "task": false
    }
   },
   "outputs": [],
   "source": [
    "def calc_accuracy(y_test, y_pred):\n",
    "    correct = (y_pred == y_test).value_counts()[True]\n",
    "    accuracy = correct/r\n",
    "    #accuracy = None\n",
    "    # YOUR CODE HERE\n",
    "    #raise NotImplementedError()\n",
    "    return accuracy"
   ]
  },
  {
   "cell_type": "code",
   "execution_count": 22,
   "metadata": {
    "deletable": false,
    "editable": false,
    "nbgrader": {
     "cell_type": "code",
     "checksum": "9e60eaa0a604ec38ec10b318709f16d2",
     "grade": true,
     "grade_id": "cell-3c242c8ceb36bdde",
     "locked": true,
     "points": 5,
     "schema_version": 3,
     "solution": false,
     "task": false
    }
   },
   "outputs": [
    {
     "name": "stdout",
     "output_type": "stream",
     "text": [
      "Accuracy: 0.9111\n",
      "success!\n"
     ]
    }
   ],
   "source": [
    "accuracy = calc_accuracy(y_test, y_pred)\n",
    "print('Accuracy: %.4f' % accuracy)\n",
    "\n",
    "# Test function: Do not remove\n",
    "assert isinstance(accuracy, float), 'accuracy should be floating point'\n",
    "assert accuracy >= 0.8, 'Did you train the data?'\n",
    "\n",
    "print(\"success!\")\n",
    "# End Test function"
   ]
  },
  {
   "cell_type": "markdown",
   "metadata": {
    "deletable": false,
    "editable": false,
    "nbgrader": {
     "cell_type": "markdown",
     "checksum": "bb73f150e4d32690d39ea62b36681d0e",
     "grade": false,
     "grade_id": "cell-c6ce114f4e28eb00",
     "locked": true,
     "schema_version": 3,
     "solution": false,
     "task": false
    }
   },
   "source": [
    "**Expected result**: should be at least 0.8!"
   ]
  },
  {
   "cell_type": "markdown",
   "metadata": {
    "deletable": false,
    "editable": false,
    "nbgrader": {
     "cell_type": "markdown",
     "checksum": "409feaa976ebc15fa25dd29cb7f225de",
     "grade": false,
     "grade_id": "cell-766aea2be684caa1",
     "locked": true,
     "schema_version": 3,
     "solution": false,
     "task": false
    }
   },
   "source": [
    "## On your own in lab\n",
    "\n",
    "We will do the following in lab:\n",
    "1. Write a function to obtain the cost for particular $\\mathtt{X}$, $\\mathbf{y}$, and $\\theta$.\n",
    "2. Plot the training set and test cost as training goes on and find the best value for the number of iterations and learning rate.\n",
    "3. Make 2D scatter plots showing the predicted and actual class of each item in the training set, plotting two features at a time.\n",
    "   Comment on the cause of the errors you observe. If you obtain perfect test set accuracy, re-run the train/test split\n",
    "   and rerun the optimization until you observe some mistaken predictions on the test set.\n"
   ]
  },
  {
   "cell_type": "markdown",
   "metadata": {
    "deletable": false,
    "editable": false,
    "nbgrader": {
     "cell_type": "markdown",
     "checksum": "ea7c241fded47855150e595f8487230e",
     "grade": false,
     "grade_id": "cell-24e9ed62d68b8af8",
     "locked": true,
     "schema_version": 3,
     "solution": false,
     "task": false
    }
   },
   "source": [
    "## Exercise 2.1 (15 points)\n",
    "\n",
    "1. Write a function to obtain the cost for particular $\\mathtt{X}$, $\\mathbf{y}$, and $\\theta$.\n",
    "   Name your function `my_J()` and implement\n",
    "\n",
    "$$ J_j = -\\delta(y, j)\\log{\\phi_j} $$\n"
   ]
  },
  {
   "cell_type": "code",
   "execution_count": 23,
   "metadata": {
    "deletable": false,
    "nbgrader": {
     "cell_type": "code",
     "checksum": "7bae968c2f17079d9772c6a7fc4dabde",
     "grade": false,
     "grade_id": "cell-09504f5f2f8c3576",
     "locked": false,
     "schema_version": 3,
     "solution": true,
     "task": false
    }
   },
   "outputs": [],
   "source": [
    "def my_J(theta, X, y, j, num_class):\n",
    "    cost = indicator(y,j)*-np.log(phi(j, theta, X, num_class))\n",
    "    #cost = None\n",
    "    # YOUR CODE HERE\n",
    "    #raise NotImplementedError()\n",
    "    return cost\n"
   ]
  },
  {
   "cell_type": "code",
   "execution_count": 24,
   "metadata": {
    "deletable": false,
    "editable": false,
    "nbgrader": {
     "cell_type": "code",
     "checksum": "c99e4d6e2e754a96be6e7d37d9bb7149",
     "grade": true,
     "grade_id": "cell-fbcbb4e3e0175f5b",
     "locked": true,
     "points": 5,
     "schema_version": 3,
     "solution": false,
     "task": false
    }
   },
   "outputs": [
    {
     "name": "stdout",
     "output_type": "stream",
     "text": [
      "success!\n"
     ]
    }
   ],
   "source": [
    "# Test function: Do not remove\n",
    "m, n = X_train.shape\n",
    "test_theta = np.ones((3, n))  \n",
    "cost = my_J(test_theta, X_train.loc[10], y_train[10], 0, 3)\n",
    "assert isinstance(cost, float), 'cost should be floating point'\n",
    "\n",
    "print(\"success!\")\n",
    "# End Test function"
   ]
  },
  {
   "cell_type": "markdown",
   "metadata": {
    "deletable": false,
    "editable": false,
    "nbgrader": {
     "cell_type": "markdown",
     "checksum": "5c398c965785889ee0a06aeb84a0b80d",
     "grade": false,
     "grade_id": "cell-34c143689212aef1",
     "locked": true,
     "schema_version": 3,
     "solution": false,
     "task": false
    }
   },
   "source": [
    "2. Implement <code>my_grad_cost</code> using your <code>my_J</code> function"
   ]
  },
  {
   "cell_type": "code",
   "execution_count": 25,
   "metadata": {
    "deletable": false,
    "nbgrader": {
     "cell_type": "code",
     "checksum": "cd8bd33416294c869c6e5e6799e706af",
     "grade": false,
     "grade_id": "cell-4ceb8af01bd22e41",
     "locked": false,
     "schema_version": 3,
     "solution": true,
     "task": false
    }
   },
   "outputs": [],
   "source": [
    "def my_grad_cost(X, y, j, theta, num_class):\n",
    "    \n",
    "    m, n = X.shape\n",
    "    sum = np.array([0 for i in range(0,n)])\n",
    "    cost = 0\n",
    "    for i in range(0, m):\n",
    "        p = indicator(y[i], j) - phi(j, theta,X.loc[i],num_class)\n",
    "        cost = cost + my_J(theta, X.loc[i], y[i], j, num_class)\n",
    "        sum = sum + (X.loc[i] * p)    \n",
    "    grad = -sum/m\n",
    "    return grad, cost\n",
    "    \n",
    "    #grad = None\n",
    "\n",
    "    # YOUR CODE HERE\n",
    "    # raise NotImplementedError()\n",
    "    #return grad, cost\n"
   ]
  },
  {
   "cell_type": "code",
   "execution_count": 26,
   "metadata": {
    "deletable": false,
    "editable": false,
    "nbgrader": {
     "cell_type": "code",
     "checksum": "561dddd2c0890a5871cd9a93ba403271",
     "grade": true,
     "grade_id": "cell-0c59178b69fc0e79",
     "locked": true,
     "points": 5,
     "schema_version": 3,
     "solution": false,
     "task": false
    }
   },
   "outputs": [
    {
     "name": "stdout",
     "output_type": "stream",
     "text": [
      "intercept        0.009524\n",
      "SepalLengthCm    0.325397\n",
      "SepalWidthCm    -0.086984\n",
      "PetalLengthCm    0.796190\n",
      "PetalWidthCm     0.332381\n",
      "dtype: float64\n",
      "37.352817814715735\n",
      "success!\n"
     ]
    }
   ],
   "source": [
    "# Test function: Do not remove\n",
    "m, n = X_train.shape\n",
    "test_theta = np.ones((3, n))  \n",
    "grad, cost = my_grad_cost(X_train, y_train, 0, test_theta, num_class)\n",
    "print(grad)\n",
    "print(cost)\n",
    "assert isinstance(cost, float), 'cost should be floating point'\n",
    "assert isinstance(grad['intercept'], float) and \\\n",
    "        isinstance(grad['SepalLengthCm'], float) and \\\n",
    "        isinstance(grad['SepalWidthCm'], float) and \\\n",
    "        isinstance(grad['PetalLengthCm'], float) and \\\n",
    "        isinstance(grad['PetalWidthCm'], float) , 'grad should be floating point'\n",
    "print(\"success!\")\n",
    "# End Test function"
   ]
  },
  {
   "cell_type": "markdown",
   "metadata": {
    "deletable": false,
    "editable": false,
    "nbgrader": {
     "cell_type": "markdown",
     "checksum": "3a7669c774b0a3bf8c73ff1a0434fe62",
     "grade": false,
     "grade_id": "cell-97b876dfa85ff5bc",
     "locked": true,
     "schema_version": 3,
     "solution": false,
     "task": false
    }
   },
   "source": [
    "**Expect result**: <span style=\"color:blue\">(*or similar*)</span>\\\n",
    "intercept        0.009524\\\n",
    "SepalLengthCm    0.316825\\\n",
    "SepalWidthCm    -0.091429\\\n",
    "PetalLengthCm    0.780000\\\n",
    "PetalWidthCm     0.329524\\\n",
    "dtype: float64\\\n",
    "37.352817814715735"
   ]
  },
  {
   "cell_type": "markdown",
   "metadata": {
    "deletable": false,
    "editable": false,
    "nbgrader": {
     "cell_type": "markdown",
     "checksum": "3d80cb7d40135eec5790ae5a8f5af7cf",
     "grade": false,
     "grade_id": "cell-32f708e7578beca7",
     "locked": true,
     "schema_version": 3,
     "solution": false,
     "task": false
    }
   },
   "source": [
    "3. Implement <code>my_gradient_descent</code> using your <code>my_grad_cost</code> function"
   ]
  },
  {
   "cell_type": "code",
   "execution_count": 27,
   "metadata": {
    "deletable": false,
    "nbgrader": {
     "cell_type": "code",
     "checksum": "8b2a20ca1f35b23f2f6226e644a123a0",
     "grade": false,
     "grade_id": "cell-68841cb78e91028a",
     "locked": false,
     "schema_version": 3,
     "solution": true,
     "task": false
    }
   },
   "outputs": [],
   "source": [
    "def my_gradient_descent(X, y, theta, alpha, iters, num_class):        \n",
    "    cost_arr = []\n",
    "    for iter in range(iters):\n",
    "        cost = 0\n",
    "        for j in range(0, num_class):\n",
    "            grad = my_grad_cost(X, y, j, theta_initial,num_class)\n",
    "            theta[j] = theta[j] - alpha * grad[0]\n",
    "            cost = cost + grad[1]\n",
    "        cost_arr.append(cost)\n",
    "            \n",
    "    # YOUR CODE HERE\n",
    "    #raise NotImplementedError()\n",
    "    return theta, cost_arr"
   ]
  },
  {
   "cell_type": "code",
   "execution_count": 28,
   "metadata": {
    "deletable": false,
    "editable": false,
    "nbgrader": {
     "cell_type": "code",
     "checksum": "5a352fdcab8656502c0f241b436d3966",
     "grade": true,
     "grade_id": "cell-8b7f6daed2ecf043",
     "locked": true,
     "points": 5,
     "schema_version": 3,
     "solution": false,
     "task": false
    }
   },
   "outputs": [
    {
     "name": "stdout",
     "output_type": "stream",
     "text": [
      "[[0.99997637 0.99718408 1.00108212 0.99235902 0.99678348]\n",
      " [0.99972884 0.99863104 0.99839087 1.00026341 1.00000747]\n",
      " [1.00028326 1.00411462 1.00049272 1.00732667 1.0031921 ]]\n",
      "[114.29559502554501, 114.13082275794832, 113.97018351762989, 113.81351319720449, 113.66065378660718]\n",
      "success!\n"
     ]
    }
   ],
   "source": [
    "# Test function: Do not remove\n",
    "m, n = X_train.shape\n",
    "test_theta = np.ones((3, n))  \n",
    "theta, cost = my_gradient_descent(X_train, y_train, theta_initial, 0.001, 5, 3)\n",
    "print(theta)\n",
    "print(cost)\n",
    "print(\"success!\")\n",
    "# End Test function"
   ]
  },
  {
   "cell_type": "markdown",
   "metadata": {
    "deletable": false,
    "editable": false,
    "nbgrader": {
     "cell_type": "markdown",
     "checksum": "93a06956cbd8e8cf4b2f7b32643cd4b8",
     "grade": false,
     "grade_id": "cell-44224271d398a147",
     "locked": true,
     "schema_version": 3,
     "solution": false,
     "task": false
    }
   },
   "source": [
    "**Expected result**: <span style=\"color:blue\">(*or similar*)</span>\\\n",
    "[[1.00001186 0.99618853 1.00183642 0.9889817  0.99528923]\\\n",
    " [1.00009697 1.0011823  0.99883395 1.00316763 1.00083055]\\\n",
    " [0.99987915 1.00255606 0.99929351 1.00779768 1.00386218]]\\\n",
    "[114.00099216453735, 113.89036233839263, 113.78163144339288, 113.67472269747496, 113.56956268162737]\\\n",
    "37.352817814715735"
   ]
  },
  {
   "cell_type": "markdown",
   "metadata": {
    "deletable": false,
    "editable": false,
    "nbgrader": {
     "cell_type": "markdown",
     "checksum": "ba2df6557c59fe3a224ab91188067727",
     "grade": false,
     "grade_id": "cell-8c6718d263bf7786",
     "locked": true,
     "schema_version": 3,
     "solution": false,
     "task": false
    }
   },
   "source": [
    "## Exercise 2.2 (20 points)\n",
    "\n",
    "4. Plot the training set and test cost as training goes on and find the best value for the number of iterations and learning rate.\n",
    "5. Make 2D scatter plots showing the predicted and actual class of each item in the training set, plotting two features at a time.\n",
    "   Comment on the cause of the errors you observe. If you obtain perfect test set accuracy, re-run the train/test split\n",
    "   and rerun the optimization until you observe some mistaken predictions on the test set."
   ]
  },
  {
   "cell_type": "code",
   "execution_count": 29,
   "metadata": {},
   "outputs": [],
   "source": [
    "import matplotlib.pyplot as plt"
   ]
  },
  {
   "cell_type": "code",
   "execution_count": 30,
   "metadata": {
    "deletable": false,
    "nbgrader": {
     "cell_type": "code",
     "checksum": "b4aa679efedc456225c0f84d5646aac6",
     "grade": true,
     "grade_id": "cell-5d97fd557db7438e",
     "locked": false,
     "points": 20,
     "schema_version": 3,
     "solution": true,
     "task": false
    }
   },
   "outputs": [
    {
     "data": {
      "image/png": "[encoded data removed]",
      "text/plain": [
       "<Figure size 640x480 with 1 Axes>"
      ]
     },
     "metadata": {},
     "output_type": "display_data"
    }
   ],
   "source": [
    "theta_arr = []\n",
    "cost_arr = []\n",
    "accuracy_arr = []\n",
    "\n",
    "# design your own learning rate and num iterations\n",
    "# alpha_arr = np.array([None, None, None, None])\n",
    "# iterations_arr = np.array([None, None, None, None])\n",
    "\n",
    "alpha_arr = np.array([0.005, 0.01, 0.05, 0.09])\n",
    "iterations_arr = np.array([200, 200, 200, 200])\n",
    "\n",
    "num_class= len(y.unique())\n",
    "m, n = X_test.shape\n",
    "\n",
    "fig = plt.figure()\n",
    "ax = plt.axes()\n",
    "plt.grid(axis='both')\n",
    "\n",
    "\n",
    "for i in range(0, len(alpha_arr)):\n",
    "    theta_initial = np.ones((num_class, n))    \n",
    "    theta, cost = my_gradient_descent(X_train, y_train, theta_initial, alpha_arr[i], iterations_arr[i],num_class)\n",
    "    #print(cost)\n",
    "    \n",
    "    y_pred = []\n",
    "    for index,row in X_test.iterrows():\n",
    "        y_hat = h(row, theta,num_class)\n",
    "        #h_matrix = h(row, theta,num_class)\n",
    "        #print(h_matrix)\n",
    "        #h_matrix = np.vectorize(h_matrix)\n",
    "        prediction = int(np.where(y_hat == y_hat.max())[0])    \n",
    "        y_pred.append(prediction) \n",
    "        \n",
    "    correct = (y_pred == y_test).value_counts()[True]\n",
    "    accuracy = correct/m\n",
    "    plt.plot(range(1,iterations_arr[i]+1), cost, label='alpha:'+str(alpha_arr[i]) +', acc:' + str(np.round(accuracy,4)*100))\n",
    "    accuracy_arr.append(accuracy)\n",
    "    \n",
    "plt.legend()\n",
    "plt.show()   \n",
    "\n",
    "# YOUR CODE HERE\n",
    "#raise NotImplementedError()\n"
   ]
  },
  {
   "attachments": {
    "lab4-02.png": {
     "image/png": "[encoded data removed]"
    }
   },
   "cell_type": "markdown",
   "metadata": {
    "deletable": false,
    "editable": false,
    "nbgrader": {
     "cell_type": "markdown",
     "checksum": "0c15b26d416d2baf11b8a9f0695f9ff8",
     "grade": false,
     "grade_id": "cell-708bd0d431aeb436",
     "locked": true,
     "schema_version": 3,
     "solution": false,
     "task": false
    }
   },
   "source": [
    "**Expected result**: <span style=\"color:blue\">(*Yours doesn't have to be the same!*)</span>\n",
    "\n",
    "![lab4-02.png](attachment:lab4-02.png)"
   ]
  },
  {
   "cell_type": "markdown",
   "metadata": {
    "deletable": false,
    "editable": false,
    "nbgrader": {
     "cell_type": "markdown",
     "checksum": "29074975f2f5f4dff65a4c9ccfc006c5",
     "grade": false,
     "grade_id": "cell-11e3be2a06e07677",
     "locked": true,
     "points": 40,
     "schema_version": 3,
     "solution": false,
     "task": true
    }
   },
   "source": [
    "## On your own to take home\n",
    "\n",
    "We see that the Iris dataset is pretty easy. Depending on the train/test split, we get 95-100% accuracy.\n",
    "\n",
    "Find a more interesting multi-class classification problem on Kaggle (Tell the reference), clean the dataset to obtain numerical input features without missing values,\n",
    "split the data into test and train, and experiment with multinomial logistic regression.\n",
    "\n",
    "Write a brief report on your experiments and results. As always, turn in a Jupyter notebook by email\n",
    "to the instructor and TA.\n"
   ]
  },
  {
   "cell_type": "code",
   "execution_count": 44,
   "metadata": {},
   "outputs": [
    {
     "name": "stdout",
     "output_type": "stream",
     "text": [
      "   bill_length_mm  bill_depth_mm  flipper_length_mm species\n",
      "0            39.1           18.7               18.1  Adelie\n",
      "1            39.5           17.4               18.6  Adelie\n",
      "2            40.3           18.0               19.5  Adelie\n",
      "3            36.7           19.3               19.3  Adelie\n",
      "4            39.3           20.6               19.0  Adelie\n"
     ]
    }
   ],
   "source": [
    "#Prepare Data\n",
    "data = pd.read_csv('penguins.csv')\n",
    "print(data.head())"
   ]
  },
  {
   "cell_type": "code",
   "execution_count": 45,
   "metadata": {},
   "outputs": [
    {
     "name": "stdout",
     "output_type": "stream",
     "text": [
      "<class 'pandas.core.frame.DataFrame'>\n",
      "RangeIndex: 342 entries, 0 to 341\n",
      "Data columns (total 4 columns):\n",
      " #   Column             Non-Null Count  Dtype  \n",
      "---  ------             --------------  -----  \n",
      " 0   bill_length_mm     342 non-null    float64\n",
      " 1   bill_depth_mm      342 non-null    float64\n",
      " 2   flipper_length_mm  342 non-null    float64\n",
      " 3   species            342 non-null    object \n",
      "dtypes: float64(3), object(1)\n",
      "memory usage: 10.8+ KB\n"
     ]
    }
   ],
   "source": [
    "data.info()"
   ]
  },
  {
   "cell_type": "code",
   "execution_count": 46,
   "metadata": {},
   "outputs": [
    {
     "name": "stdout",
     "output_type": "stream",
     "text": [
      "     bill_length_mm  bill_depth_mm  flipper_length_mm\n",
      "0              39.1           18.7               18.1\n",
      "1              39.5           17.4               18.6\n",
      "2              40.3           18.0               19.5\n",
      "3              36.7           19.3               19.3\n",
      "4              39.3           20.6               19.0\n",
      "..              ...            ...                ...\n",
      "337            55.8           19.8               20.7\n",
      "338            43.5           18.1               20.2\n",
      "339            49.6           18.2               19.3\n",
      "340            50.8           19.0               21.0\n",
      "341            50.2           18.7               19.8\n",
      "\n",
      "[342 rows x 3 columns]\n",
      "0         Adelie\n",
      "1         Adelie\n",
      "2         Adelie\n",
      "3         Adelie\n",
      "4         Adelie\n",
      "         ...    \n",
      "337    Chinstrap\n",
      "338    Chinstrap\n",
      "339    Chinstrap\n",
      "340    Chinstrap\n",
      "341    Chinstrap\n",
      "Name: species, Length: 342, dtype: object\n"
     ]
    }
   ],
   "source": [
    "# Extract y from data\n",
    "y_label = 'species'\n",
    "y = data[y_label]\n",
    "\n",
    "# Extract X features from data\n",
    "y_index = data.columns.get_loc(y_label)\n",
    "X = data.iloc[:,:y_index]\n",
    "\n",
    "print(X)\n",
    "print(y)"
   ]
  },
  {
   "cell_type": "code",
   "execution_count": 47,
   "metadata": {},
   "outputs": [],
   "source": [
    "m, n = X.shape\n",
    "idx = np.arange(0,m)\n",
    "\n",
    "random.shuffle(idx)\n",
    "#data = pd.read_csv('penguins1.csv')\n",
    "data =data.iloc[idx,:]\n",
    "data = data.reset_index()\n",
    "data = data.drop(['index'],axis=1)\n",
    "\n",
    "percent_train = 0.7\n",
    "m_train = int(m*percent_train)\n",
    "\n",
    "\n",
    "X_train = data.iloc[0:m_train,0:y_index]\n",
    "X_test = data.iloc[m_train:,0:y_index]\n",
    "\n",
    "y_train = data.iloc[:m_train,y_index]\n",
    "y_test = data.iloc[m_train:,y_index]\n",
    "\n",
    "labels = pd.unique(data[y_label])\n",
    "\n",
    "\n",
    "i = 0\n",
    "for label in y.unique():\n",
    "    y_train[y_train.str.match(label)] = str(i)\n",
    "    y_test[y_test.str.match(label)] = str(i)\n",
    "    i = i + 1      \n",
    "y_train = y_train.astype(int)\n",
    "y_test = y_test.astype(int)"
   ]
  },
  {
   "cell_type": "code",
   "execution_count": 48,
   "metadata": {},
   "outputs": [
    {
     "name": "stdout",
     "output_type": "stream",
     "text": [
      "     bill_length_mm  bill_depth_mm  flipper_length_mm\n",
      "0              42.0           13.5               21.0\n",
      "1              36.2           16.1               18.7\n",
      "2              46.6           17.8               19.3\n",
      "3              38.9           17.8               18.1\n",
      "4              45.4           18.7               18.8\n",
      "..              ...            ...                ...\n",
      "234            37.7           19.8               19.8\n",
      "235            35.6           17.5               19.1\n",
      "236            47.5           14.0               21.2\n",
      "237            47.3           15.3               22.2\n",
      "238            50.0           16.3               23.0\n",
      "\n",
      "[239 rows x 3 columns]\n",
      "     bill_length_mm  bill_depth_mm  flipper_length_mm\n",
      "239            38.1           16.5               19.8\n",
      "240            42.0           20.2               19.0\n",
      "241            49.2           15.2               22.1\n",
      "242            38.8           17.6               19.1\n",
      "243            42.6           13.7               21.3\n",
      "..              ...            ...                ...\n",
      "337            40.2           17.1               19.3\n",
      "338            51.3           19.2               19.3\n",
      "339            50.8           19.0               21.0\n",
      "340            41.1           18.6               18.9\n",
      "341            45.8           14.2               21.9\n",
      "\n",
      "[103 rows x 3 columns]\n",
      "0      1\n",
      "1      0\n",
      "2      2\n",
      "3      0\n",
      "4      2\n",
      "      ..\n",
      "234    0\n",
      "235    0\n",
      "236    1\n",
      "237    1\n",
      "238    1\n",
      "Name: species, Length: 239, dtype: int64\n",
      "239    0\n",
      "240    0\n",
      "241    1\n",
      "242    0\n",
      "243    1\n",
      "      ..\n",
      "337    0\n",
      "338    2\n",
      "339    2\n",
      "340    0\n",
      "341    1\n",
      "Name: species, Length: 103, dtype: int64\n"
     ]
    }
   ],
   "source": [
    "print(X_train)\n",
    "print(X_test)\n",
    "print(y_train)\n",
    "print(y_test)"
   ]
  },
  {
   "cell_type": "code",
   "execution_count": 49,
   "metadata": {},
   "outputs": [
    {
     "name": "stdout",
     "output_type": "stream",
     "text": [
      "[[ 1.09140924 -0.29403987  3.80749615  1.73879219]\n",
      " [ 0.96849647  2.42241985 -1.40780207  1.70369468]\n",
      " [ 0.94009429  0.87162003  0.60030592 -0.44248687]]\n"
     ]
    }
   ],
   "source": [
    "\n",
    "# k is the number of unique labels\n",
    "\n",
    "k = len(y.unique())\n",
    "\n",
    "if (X_train.shape[1] == X.shape[1]): \n",
    "    X_train.insert(0, \"intercept\", 1)\n",
    "\n",
    "# Reset m and n for training data\n",
    "\n",
    "m, n = X_train.shape\n",
    "\n",
    "# Initialize theta for each class  \n",
    "\n",
    "theta_initial = np.ones((k, n))\n",
    "\n",
    "alpha = .05\n",
    "iterations = 50\n",
    "\n",
    "# Logistic regression\n",
    "\n",
    "theta = gradient_descent(X_train, y_train, theta_initial, alpha, iterations, k)\n",
    "\n",
    "print(theta)\n",
    "\n",
    "\n"
   ]
  },
  {
   "cell_type": "code",
   "execution_count": 50,
   "metadata": {},
   "outputs": [],
   "source": [
    "# Prediction on test data \n",
    "\n",
    "if (X_test.shape[1] == X.shape[1]): \n",
    "    X_test.insert(0, \"intercept\", 1)\n",
    "\n",
    "m,n = X_test.shape\n",
    "y_pred = []\n",
    "for index,row in X_test.iterrows():\n",
    "    h_matrix = h(row, theta,k)\n",
    "    #print(h_matrix)\n",
    "    #print(h_matrix)\n",
    "    #h_matrix = np.vectorize(h_matrix)\n",
    "    prediction = int(np.where(h_matrix == h_matrix.max())[0])    \n",
    "    y_pred.append(prediction) \n"
   ]
  },
  {
   "cell_type": "code",
   "execution_count": 51,
   "metadata": {},
   "outputs": [
    {
     "name": "stdout",
     "output_type": "stream",
     "text": [
      "Accuracy: 0.8222\n",
      "success!\n"
     ]
    }
   ],
   "source": [
    "accuracy = calc_accuracy(y_test, y_pred)\n",
    "print('Accuracy: %.4f' % accuracy)\n",
    "\n",
    "# Test function: Do not remove\n",
    "assert isinstance(accuracy, float), 'accuracy should be floating point'\n",
    "assert accuracy >= 0.8, 'Did you train the data?'\n",
    "\n",
    "print(\"success!\")\n",
    "# End Test function"
   ]
  },
  {
   "cell_type": "markdown",
   "metadata": {},
   "source": [
    "I used penguins dataset from the Kaggle. The reason why is that it's similar with iris dataset and better to use the Regression. The accuarcy I got is 0.884 and so experiment with multinomial logistic regression and results are better.\n"
   ]
  },
  {
   "cell_type": "code",
   "execution_count": null,
   "metadata": {},
   "outputs": [],
   "source": [
    "\n"
   ]
  },
  {
   "cell_type": "code",
   "execution_count": null,
   "metadata": {},
   "outputs": [],
   "source": []
  }
 ],
 "metadata": {
  "kernelspec": {
   "display_name": "Python 3 (ipykernel)",
   "language": "python",
   "name": "python3"
  },
  "language_info": {
   "codemirror_mode": {
    "name": "ipython",
    "version": 3
   },
   "file_extension": ".py",
   "mimetype": "text/x-python",
   "name": "python",
   "nbconvert_exporter": "python",
   "pygments_lexer": "ipython3",
   "version": "3.9.6"
  }
 },
 "nbformat": 4,
 "nbformat_minor": 4
}
